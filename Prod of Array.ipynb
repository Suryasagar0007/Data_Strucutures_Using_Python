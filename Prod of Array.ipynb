{
 "cells": [
  {
   "cell_type": "code",
   "execution_count": 3,
   "id": "b89e0442-5dbc-4833-b3e9-856e0674012e",
   "metadata": {},
   "outputs": [
    {
     "name": "stdout",
     "output_type": "stream",
     "text": [
      "Input Array: [1, 2, 3, 4, 5]\n",
      "Product Except Self: [120, 60, 40, 30, 24]\n"
     ]
    }
   ],
   "source": [
    "def product_except_self(arr):\n",
    "    n = len(arr)\n",
    "    prod_arr = [1] * n  # Initialize product array with 1s\n",
    "\n",
    "    # Step 1: Calculate prefix product\n",
    "    prefix = 1\n",
    "    for i in range(n):\n",
    "        prod_arr[i] = prefix\n",
    "        prefix *= arr[i]\n",
    "\n",
    "    # Step 2: Calculate suffix product and multiply\n",
    "    suffix = 1\n",
    "    for i in range(n - 1, -1, -1):\n",
    "        prod_arr[i] *= suffix\n",
    "        suffix *= arr[i]\n",
    "\n",
    "    return prod_arr\n",
    "\n",
    "\n",
    "# Example usage\n",
    "arr = [1, 2, 3, 4,5]\n",
    "result = product_except_self(arr)\n",
    "print(\"Input Array:\", arr)\n",
    "print(\"Product Except Self:\", result)"
   ]
  },
  {
   "cell_type": "code",
   "execution_count": 7,
   "id": "65abf900-5745-4432-ac41-db6e60e38385",
   "metadata": {},
   "outputs": [
    {
     "name": "stdout",
     "output_type": "stream",
     "text": [
      "Input Array: [1, 2, 3, 4]\n",
      "Product Except Self: [24, 12, 8, 6]\n"
     ]
    }
   ],
   "source": [
    "def product_except_self_with_division(arr):\n",
    "    # Step 1: Compute the total product of all elements\n",
    "    total_product = 1\n",
    "    zero_count = 0\n",
    "\n",
    "    for num in arr:\n",
    "        if num == 0:\n",
    "            zero_count += 1\n",
    "        else:\n",
    "            total_product *= num\n",
    "\n",
    "    # Step 2: Construct the result array\n",
    "    prod_arr = []\n",
    "    for num in arr:\n",
    "        if zero_count > 1:\n",
    "            # If more than one zero, all products will be zero\n",
    "            prod_arr.append(0)\n",
    "        elif zero_count == 1:\n",
    "            # If exactly one zero, only the position with zero will have non-zero product\n",
    "            prod_arr.append(0 if num != 0 else total_product)\n",
    "        else:\n",
    "            # Normal case: divide total product by the current element\n",
    "            prod_arr.append(total_product // num)\n",
    "\n",
    "    return prod_arr\n",
    "\n",
    "\n",
    "# Example usage\n",
    "arr = [1, 2, 3, 4]\n",
    "result = product_except_self_with_division(arr)\n",
    "print(\"Input Array:\", arr)\n",
    "print(\"Product Except Self:\", result)"
   ]
  },
  {
   "cell_type": "code",
   "execution_count": null,
   "id": "97d153d7-01bf-4639-8148-c619ff83e37d",
   "metadata": {},
   "outputs": [],
   "source": []
  }
 ],
 "metadata": {
  "kernelspec": {
   "display_name": "Python [conda env:base] *",
   "language": "python",
   "name": "conda-base-py"
  },
  "language_info": {
   "codemirror_mode": {
    "name": "ipython",
    "version": 3
   },
   "file_extension": ".py",
   "mimetype": "text/x-python",
   "name": "python",
   "nbconvert_exporter": "python",
   "pygments_lexer": "ipython3",
   "version": "3.12.7"
  }
 },
 "nbformat": 4,
 "nbformat_minor": 5
}
