{
 "cells": [
  {
   "cell_type": "code",
   "execution_count": 9,
   "id": "73b8c6f2-b0c8-4ee8-8b1f-915a536f69a4",
   "metadata": {},
   "outputs": [
    {
     "name": "stdin",
     "output_type": "stream",
     "text": [
      "Enter the number of rows:  3\n",
      "Enter the number of columns:  3\n"
     ]
    },
    {
     "name": "stdout",
     "output_type": "stream",
     "text": [
      "Enter the elements row by row:\n"
     ]
    },
    {
     "name": "stdin",
     "output_type": "stream",
     "text": [
      "  1 2 3\n",
      " 4 5 6\n",
      "  7 8 9\n"
     ]
    },
    {
     "name": "stdout",
     "output_type": "stream",
     "text": [
      "Sum of row 1: 6\n",
      "Sum of row 2: 15\n",
      "Sum of row 3: 24\n"
     ]
    }
   ],
   "source": [
    "# write a program to add the elements in eachrow \n",
    "\n",
    "def sum_of_rows(matrix):\n",
    "    row_sums = []\n",
    "    for row in matrix:\n",
    "        row_sums.append(sum(row))  # sum the elements in the current row\n",
    "    return row_sums\n",
    "\n",
    "# Take input from the user\n",
    "rows = int(input(\"Enter the number of rows: \"))\n",
    "cols = int(input(\"Enter the number of columns: \"))\n",
    "\n",
    "# Initialize the matrix\n",
    "matrix = []\n",
    "\n",
    "# Input the elements of the matrix\n",
    "print(\"Enter the elements row by row:\")\n",
    "for i in range(rows):\n",
    "    row = list(map(int, input().split()))  # Input a row of integers\n",
    "    matrix.append(row)\n",
    "\n",
    "# Calculate sum of each row\n",
    "row_sums = sum_of_rows(matrix)\n",
    "\n",
    "# Output the result\n",
    "for i, total in enumerate(row_sums):\n",
    "    print(f\"Sum of row {i + 1}: {total}\")"
   ]
  },
  {
   "cell_type": "code",
   "execution_count": 13,
   "id": "537ae166-b621-47a2-a49b-7ad646483463",
   "metadata": {},
   "outputs": [
    {
     "name": "stdin",
     "output_type": "stream",
     "text": [
      "Enter the number of rows:  3\n",
      "Enter the number of columns:  3\n"
     ]
    },
    {
     "name": "stdout",
     "output_type": "stream",
     "text": [
      "Enter the elements row by row:\n"
     ]
    },
    {
     "name": "stdin",
     "output_type": "stream",
     "text": [
      " 1 2 3\n",
      " 4 5 6\n",
      " 7 8 9\n"
     ]
    },
    {
     "name": "stdout",
     "output_type": "stream",
     "text": [
      "Sum of column 1: 12\n",
      "Sum of column 2: 15\n",
      "Sum of column 3: 18\n"
     ]
    }
   ],
   "source": [
    "def sum_of_columns(matrix):\n",
    "    col_sums = [0] * len(matrix[0])  # Initialize a list with zero values for each column\n",
    "    \n",
    "    for row in matrix:\n",
    "        for j in range(len(row)):\n",
    "            col_sums[j] += row[j]  # Add the current element to the corresponding column sum\n",
    "    \n",
    "    return col_sums\n",
    "\n",
    "# Take input from the user\n",
    "rows = int(input(\"Enter the number of rows: \"))\n",
    "cols = int(input(\"Enter the number of columns: \"))\n",
    "\n",
    "# Initialize the matrix\n",
    "matrix = []\n",
    "\n",
    "# Input the elements of the matrix\n",
    "print(\"Enter the elements row by row:\")\n",
    "for i in range(rows):\n",
    "    row = list(map(int, input().split()))  # Input a row of integers\n",
    "    matrix.append(row)\n",
    "\n",
    "# Calculate sum of each column\n",
    "column_sums = sum_of_columns(matrix)\n",
    "\n",
    "# Output the result\n",
    "for i, total in enumerate(column_sums):\n",
    "    print(f\"Sum of column {i + 1}: {total}\")\n"
   ]
  },
  {
   "cell_type": "code",
   "execution_count": null,
   "id": "bece612c-7d63-45f0-aa52-8095a072c26d",
   "metadata": {},
   "outputs": [],
   "source": []
  }
 ],
 "metadata": {
  "kernelspec": {
   "display_name": "Python [conda env:base] *",
   "language": "python",
   "name": "conda-base-py"
  },
  "language_info": {
   "codemirror_mode": {
    "name": "ipython",
    "version": 3
   },
   "file_extension": ".py",
   "mimetype": "text/x-python",
   "name": "python",
   "nbconvert_exporter": "python",
   "pygments_lexer": "ipython3",
   "version": "3.12.7"
  }
 },
 "nbformat": 4,
 "nbformat_minor": 5
}
