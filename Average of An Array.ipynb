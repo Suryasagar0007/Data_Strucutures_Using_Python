{
 "cells": [
  {
   "cell_type": "code",
   "execution_count": 3,
   "id": "fa3679d4-47fd-447f-866d-be3ca1ee487f",
   "metadata": {},
   "outputs": [
    {
     "name": "stdout",
     "output_type": "stream",
     "text": [
      "Sum: 34\n",
      "Average 4.857142857142857\n"
     ]
    }
   ],
   "source": [
    "import numpy as np\n",
    "\n",
    "x=np.array([3,5,2,7,8,4,5])\n",
    "x_sum=sum(x)\n",
    "print(\"Sum:\",x_sum)\n",
    "length=len(x)\n",
    "average=x_sum/length\n",
    "print(\"Average\",average)"
   ]
  },
  {
   "cell_type": "code",
   "execution_count": 17,
   "id": "9693d84d-7787-4c9f-81d1-b06c9b064221",
   "metadata": {},
   "outputs": [
    {
     "name": "stdout",
     "output_type": "stream",
     "text": [
      "[5 4 8 7 2 5 3]\n",
      "4.857142857142857\n"
     ]
    }
   ],
   "source": [
    "import numpy as np\n",
    "\n",
    "x = np.array([3, 5, 2, 7, 8, 4, 5])\n",
    "print(x[::-1])  # This prints the reversed array\n",
    "\n",
    "sum = 0\n",
    "for i in x:\n",
    "    sum += i  # Add the value of i to the sum\n",
    "\n",
    "avg = sum / len(x)  # Calculate the average using the length of x\n",
    "print(avg)\n"
   ]
  },
  {
   "cell_type": "code",
   "execution_count": 31,
   "id": "f4434cf0-2364-4844-9412-dd857662ee4f",
   "metadata": {},
   "outputs": [
    {
     "name": "stdout",
     "output_type": "stream",
     "text": [
      "[5 4 8 7 2 5 3]\n",
      "5\n",
      "4\n",
      "8\n",
      "7\n",
      "2\n",
      "5\n",
      "3\n",
      "3.0\n"
     ]
    }
   ],
   "source": [
    "import numpy as np\n",
    "\n",
    "x = np.array([3, 5, 2, 7, 8, 4, 5])\n",
    "print(x[::-1]) \n",
    "\n",
    "sum = 0\n",
    "n=len(x)\n",
    "for i in range(n-1,-1,-1):\n",
    "    print(x[i])\n",
    "    sum += i\n",
    "    \n",
    "avg = sum / n \n",
    "print(avg)\n"
   ]
  },
  {
   "cell_type": "code",
   "execution_count": null,
   "id": "71d2f075-bda9-4973-a9c1-1907d13fffcf",
   "metadata": {},
   "outputs": [],
   "source": []
  }
 ],
 "metadata": {
  "kernelspec": {
   "display_name": "Python [conda env:base] *",
   "language": "python",
   "name": "conda-base-py"
  },
  "language_info": {
   "codemirror_mode": {
    "name": "ipython",
    "version": 3
   },
   "file_extension": ".py",
   "mimetype": "text/x-python",
   "name": "python",
   "nbconvert_exporter": "python",
   "pygments_lexer": "ipython3",
   "version": "3.12.7"
  }
 },
 "nbformat": 4,
 "nbformat_minor": 5
}
