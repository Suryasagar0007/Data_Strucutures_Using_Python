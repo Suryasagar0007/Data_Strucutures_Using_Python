{
 "cells": [
  {
   "cell_type": "code",
   "execution_count": 1,
   "id": "0eb64164-9114-4ce3-ab9a-5afcbbb31ca6",
   "metadata": {},
   "outputs": [
    {
     "name": "stdin",
     "output_type": "stream",
     "text": [
      "Enter the first number (m):  14\n",
      "Enter the second number (n):  63\n"
     ]
    },
    {
     "name": "stdout",
     "output_type": "stream",
     "text": [
      "The GCD of 14 and 63 is: 7\n"
     ]
    }
   ],
   "source": [
    "def simple_gcd(m, n):\n",
    "    # Lists to store the factors of m and n\n",
    "    fm = []\n",
    "    fn = []\n",
    "    \n",
    "    # Find factors of m\n",
    "    for i in range(1, m + 1):\n",
    "        if m % i == 0:\n",
    "            fm.append(i)\n",
    "    \n",
    "    # Find factors of n\n",
    "    for j in range(1, n + 1):\n",
    "        if n % j == 0:\n",
    "            fn.append(j)\n",
    "    \n",
    "    # Find common factors\n",
    "    cf = []\n",
    "    for f in fm:\n",
    "        \n",
    "        if f in fn:\n",
    "            cf.append(f)\n",
    "    \n",
    "    # Return the largest common factor (GCD)\n",
    "    return max(cf)\n",
    "\n",
    "# Input two numbers\n",
    "m = int(input(\"Enter the first number (m): \"))\n",
    "n = int(input(\"Enter the second number (n): \"))\n",
    "\n",
    "# Output the GCD\n",
    "print(\"The GCD of\", m, \"and\", n, \"is:\", simple_gcd(m, n))"
   ]
  },
  {
   "cell_type": "code",
   "execution_count": 9,
   "id": "58378e03-2584-4b23-9489-31744e91dd45",
   "metadata": {},
   "outputs": [
    {
     "name": "stdin",
     "output_type": "stream",
     "text": [
      "Enter the first number (m):  14\n",
      "Enter the second number (n):  63\n"
     ]
    },
    {
     "name": "stdout",
     "output_type": "stream",
     "text": [
      "The GCD of 14 and 63 is: 7\n"
     ]
    }
   ],
   "source": [
    "def gcd(m,n):\n",
    "    cf=[]\n",
    "    for i in range(1,min(m,n)+1):\n",
    "        if(m%i)==0 and (n%i)==0:\n",
    "            vf.append(i)\n",
    "    return(cf[-1])\n",
    "\n",
    "m = int(input(\"Enter the first number (m): \"))\n",
    "n = int(input(\"Enter the second number (n): \"))\n",
    "\n",
    "# Output the GCD\n",
    "print(\"The GCD of\", m, \"and\", n, \"is:\", simple_gcd(m, n))"
   ]
  },
  {
   "cell_type": "code",
   "execution_count": 1,
   "id": "2fc23da7-e129-46aa-9ec6-e872c808cf2e",
   "metadata": {},
   "outputs": [],
   "source": [
    "# No lists "
   ]
  },
  {
   "cell_type": "code",
   "execution_count": 5,
   "id": "6f65f022-1609-41e7-86e2-0f0551d64f75",
   "metadata": {},
   "outputs": [
    {
     "name": "stdin",
     "output_type": "stream",
     "text": [
      "Enter the first number (m):  14\n",
      "Enter the second number (n):  63\n"
     ]
    },
    {
     "name": "stdout",
     "output_type": "stream",
     "text": [
      "The GCD of 14 and 63 is: 7\n"
     ]
    }
   ],
   "source": [
    "def gcd(m,n):\n",
    "    for i in range(1,min(m,n)+1):\n",
    "        if(m%i)==0 and (n%i)==0:\n",
    "            mrcf=i\n",
    "    return(mrcf)\n",
    "m = int(input(\"Enter the first number (m): \"))\n",
    "n = int(input(\"Enter the second number (n): \"))\n",
    "\n",
    "# Output the GCD\n",
    "print(\"The GCD of\", m, \"and\", n, \"is:\", gcd(m, n))\n"
   ]
  },
  {
   "cell_type": "code",
   "execution_count": 7,
   "id": "41067166-e0fc-4e2d-8b84-c2ce3df4c186",
   "metadata": {},
   "outputs": [],
   "source": [
    "#no lists"
   ]
  },
  {
   "cell_type": "code",
   "execution_count": 11,
   "id": "1ad6b5fe-d5d6-42c2-9d80-c35ecc00d916",
   "metadata": {},
   "outputs": [
    {
     "name": "stdin",
     "output_type": "stream",
     "text": [
      "Enter the first number (m):  14\n",
      "Enter the second number (n):  63\n"
     ]
    },
    {
     "name": "stdout",
     "output_type": "stream",
     "text": [
      "The GCD of 14 and 63 is: 7\n"
     ]
    }
   ],
   "source": [
    "def gcd(m,n):\n",
    "    i=min(m,n)\n",
    "    while i>0:\n",
    "        if(m%i)==0 and (n%i)==0:\n",
    "            return(i)\n",
    "        else:\n",
    "            i=i-1\n",
    "\n",
    "m = int(input(\"Enter the first number (m): \"))\n",
    "n = int(input(\"Enter the second number (n): \"))\n",
    "\n",
    "# Output the GCD\n",
    "print(\"The GCD of\", m, \"and\", n, \"is:\", gcd(m, n))"
   ]
  },
  {
   "cell_type": "code",
   "execution_count": 13,
   "id": "ba46e8ae-dc1d-4237-9db4-77961cde7d14",
   "metadata": {},
   "outputs": [
    {
     "name": "stdin",
     "output_type": "stream",
     "text": [
      "Enter the first number (m):  14\n",
      "Enter the second number (n):  63\n"
     ]
    },
    {
     "name": "stdout",
     "output_type": "stream",
     "text": [
      "The GCD of 14 and 63 is: 7\n"
     ]
    }
   ],
   "source": [
    "def gcd(m, n):\n",
    "    while n != 0:\n",
    "        m, n = n, m % n\n",
    "    return m\n",
    "m = int(input(\"Enter the first number (m): \"))\n",
    "n = int(input(\"Enter the second number (n): \"))\n",
    "\n",
    "# Output the GCD\n",
    "print(\"The GCD of\", m, \"and\", n, \"is:\", gcd(m, n))"
   ]
  },
  {
   "cell_type": "code",
   "execution_count": null,
   "id": "3d092993-ab33-4dd0-a798-675a989df0a3",
   "metadata": {},
   "outputs": [],
   "source": []
  }
 ],
 "metadata": {
  "kernelspec": {
   "display_name": "Python [conda env:base] *",
   "language": "python",
   "name": "conda-base-py"
  },
  "language_info": {
   "codemirror_mode": {
    "name": "ipython",
    "version": 3
   },
   "file_extension": ".py",
   "mimetype": "text/x-python",
   "name": "python",
   "nbconvert_exporter": "python",
   "pygments_lexer": "ipython3",
   "version": "3.12.7"
  }
 },
 "nbformat": 4,
 "nbformat_minor": 5
}
